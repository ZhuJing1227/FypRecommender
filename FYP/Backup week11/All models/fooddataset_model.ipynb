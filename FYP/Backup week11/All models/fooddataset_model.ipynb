{
 "cells": [
  {
   "cell_type": "markdown",
   "id": "aba3d21f",
   "metadata": {
    "id": "aba3d21f"
   },
   "source": [
    "# Importing Libraries "
   ]
  },
  {
   "cell_type": "code",
   "execution_count": 1,
   "id": "xyD80f1UwslB",
   "metadata": {
    "colab": {
     "base_uri": "https://localhost:8080/"
    },
    "id": "xyD80f1UwslB",
    "outputId": "efc3a74d-e413-4dc7-a439-b92e608a9099",
    "scrolled": true
   },
   "outputs": [
    {
     "name": "stdout",
     "output_type": "stream",
     "text": [
      "Requirement already satisfied: implicit in c:\\users\\zhuzh\\onedrive\\desktop\\ai facial recognition\\venv\\lib\\site-packages (0.5.2)\n",
      "Requirement already satisfied: scipy>=0.16 in c:\\users\\zhuzh\\onedrive\\desktop\\ai facial recognition\\venv\\lib\\site-packages (from implicit) (1.8.1)\n",
      "Requirement already satisfied: numpy in c:\\users\\zhuzh\\onedrive\\desktop\\ai facial recognition\\venv\\lib\\site-packages (from implicit) (1.22.4)\n",
      "Requirement already satisfied: tqdm>=4.27 in c:\\users\\zhuzh\\onedrive\\desktop\\ai facial recognition\\venv\\lib\\site-packages (from implicit) (4.64.0)\n",
      "Requirement already satisfied: colorama in c:\\users\\zhuzh\\onedrive\\desktop\\ai facial recognition\\venv\\lib\\site-packages (from tqdm>=4.27->implicit) (0.4.4)\n"
     ]
    }
   ],
   "source": [
    "!pip install implicit"
   ]
  },
  {
   "cell_type": "code",
   "execution_count": 2,
   "id": "8d794806",
   "metadata": {
    "colab": {
     "base_uri": "https://localhost:8080/"
    },
    "id": "8d794806",
    "outputId": "f39f0b37-5b99-4f0a-b16f-497b3e0f9b5a"
   },
   "outputs": [],
   "source": [
    "import pandas as pd\n",
    "import numpy as np\n",
    "from sklearn.metrics.pairwise import cosine_similarity,manhattan_distances\n",
    "import seaborn as sns\n",
    "import implicit \n",
    "from sklearn.feature_extraction.text import TfidfVectorizer\n",
    "import scipy.sparse as sparse\n",
    "import matplotlib.pyplot as plt\n",
    "from scipy.sparse.linalg import svds\n",
    "from sklearn.metrics.pairwise import euclidean_distances\n",
    "from sklearn.preprocessing import MinMaxScaler\n",
    "import warnings\n",
    "warnings.filterwarnings('ignore')\n",
    "sns.set(style = 'white')"
   ]
  },
  {
   "cell_type": "markdown",
   "id": "44a035f3",
   "metadata": {
    "id": "44a035f3"
   },
   "source": [
    "# Data Preprocessing\n",
    "\n",
    "\n"
   ]
  },
  {
   "cell_type": "code",
   "execution_count": 3,
   "id": "0adcd1f3",
   "metadata": {
    "id": "0adcd1f3"
   },
   "outputs": [],
   "source": [
    "df_food=pd.read_csv('newfooddata2 - Sheet1.csv')\n",
    "df_food.drop(['UserID','Top 6 most preferred dishes','sum'], axis=1, inplace=True)"
   ]
  },
  {
   "cell_type": "code",
   "execution_count": 4,
   "id": "a5cf61e7",
   "metadata": {
    "id": "a5cf61e7"
   },
   "outputs": [],
   "source": [
    "df_food = df_food.fillna(0)"
   ]
  },
  {
   "cell_type": "markdown",
   "id": "ca65e898",
   "metadata": {
    "id": "ca65e898"
   },
   "source": [
    "one food from each user has been selected as the test data and the index of the column that represents the selected food is saved in a list."
   ]
  },
  {
   "cell_type": "code",
   "execution_count": 5,
   "id": "c8605ee9",
   "metadata": {
    "id": "c8605ee9"
   },
   "outputs": [],
   "source": [
    "grp_dict={}\n",
    "test_data={}\n",
    "grp = df_food.groupby(['Gender','Age Group'])\n",
    "for name, df in grp:\n",
    "    df.drop(['Gender','Age Group'], axis=1, inplace=True)\n",
    "    df=df.reset_index().drop(['index'],axis=1)\n",
    "    df_mat=np.array(df)\n",
    "    test_indxs=[]\n",
    "    ### extract test data ###\n",
    "    for i in range(len(df)):\n",
    "        indxs=np.where(np.array(df.iloc[i])==1)[0]\n",
    "        test_indx=np.random.choice(indxs, size=1)[0]\n",
    "        df_mat[i][test_indx]=0\n",
    "        test_indxs.append(test_indx)\n",
    "    ##########################\n",
    "    test_data[name]=test_indxs\n",
    "    grp_dict[name]=df_mat\n",
    "keys=list(grp_dict.keys())\n",
    "foods=np.array(df.columns)"
   ]
  },
  {
   "cell_type": "code",
   "execution_count": 6,
   "id": "9fb48104",
   "metadata": {
    "id": "9fb48104"
   },
   "outputs": [],
   "source": [
    "df_anly=df_food.groupby(['Gender','Age Group']).sum().reset_index()"
   ]
  },
  {
   "cell_type": "code",
   "execution_count": 7,
   "id": "fd6d21db",
   "metadata": {
    "id": "fd6d21db"
   },
   "outputs": [],
   "source": [
    "df_anly['group id']=[i for i in range(len(df_anly))]"
   ]
  },
  {
   "cell_type": "markdown",
   "id": "f00d63b7",
   "metadata": {
    "id": "f00d63b7"
   },
   "source": [
    "## model1 (features from user-food matrix & cosine similarity)"
   ]
  },
  {
   "cell_type": "markdown",
   "id": "ebbafe3f",
   "metadata": {
    "id": "ebbafe3f"
   },
   "source": [
    "vectors in the user-food matrix have been directly used as feature vectors "
   ]
  },
  {
   "cell_type": "markdown",
   "id": "4d7af388",
   "metadata": {
    "id": "4d7af388"
   },
   "source": [
    "vectors of food 1 =[0,1,0], food 2=[0,1,1],food 3=[1,1,0]"
   ]
  },
  {
   "cell_type": "code",
   "execution_count": 8,
   "id": "95600771",
   "metadata": {
    "id": "95600771"
   },
   "outputs": [],
   "source": [
    "sim_mat_dic_m1={}\n",
    "for i in range(len(keys)):\n",
    "    df=grp_dict[keys[i]]\n",
    "    data_matrix=np.array(df).T\n",
    "    food_similarity_matrix=cosine_similarity(data_matrix,data_matrix) #Find the user-similarity matrix based on cosine similarity\n",
    "    sim_mat_dic_m1[keys[i]]=food_similarity_matrix"
   ]
  },
  {
   "cell_type": "markdown",
   "id": "60475aa1",
   "metadata": {
    "id": "60475aa1"
   },
   "source": [
    "## model 2 (features from Svd & cosine similarity)"
   ]
  },
  {
   "cell_type": "markdown",
   "id": "4cfbf5b8",
   "metadata": {
    "id": "4cfbf5b8"
   },
   "source": [
    "svd to generate feature vectors"
   ]
  },
  {
   "cell_type": "code",
   "execution_count": 9,
   "id": "14a139ac",
   "metadata": {
    "id": "14a139ac"
   },
   "outputs": [],
   "source": [
    "sim_mat_dic_m2={}\n",
    "for i in range(len(keys)):\n",
    "    df=grp_dict[keys[i]]\n",
    "    R = np.array(df).T\n",
    "    mean = np.mean(R, axis = 1)\n",
    "    data_matrix = R - mean.reshape(-1, 1)\n",
    "    U, sigma, Vt = svds(data_matrix, k = np.min(data_matrix.shape)-1)\n",
    "    sigma = np.diag(sigma)\n",
    "    feature_matrix=np.dot(U, sigma)\n",
    "    food_similarity_matrix=cosine_similarity(feature_matrix,feature_matrix) #Find the user-similarity matrix based on cosine similarity\n",
    "    sim_mat_dic_m2[keys[i]]=food_similarity_matrix"
   ]
  },
  {
   "cell_type": "markdown",
   "id": "3ae614f0",
   "metadata": {
    "id": "3ae614f0"
   },
   "source": [
    "## Model3 (features from user-food matrix & euclidean distance similarity)"
   ]
  },
  {
   "cell_type": "code",
   "execution_count": 10,
   "id": "23f11dfc",
   "metadata": {
    "id": "23f11dfc"
   },
   "outputs": [],
   "source": [
    "def euclidean_similarity(matrix1,matrix2):\n",
    "    euclidean_dist=euclidean_distances(matrix1,matrix2)#find distance \n",
    "    scaler = MinMaxScaler()#scale it\n",
    "    # \n",
    "    euclidean_dist_scaled = scaler.fit_transform(euclidean_dist)\n",
    "    euclidean_sim=1-euclidean_dist_scaled #minus 1 to find similarity \n",
    "    return(euclidean_sim)"
   ]
  },
  {
   "cell_type": "code",
   "execution_count": 11,
   "id": "879399f5",
   "metadata": {
    "id": "879399f5"
   },
   "outputs": [],
   "source": [
    "sim_mat_dic_m3={}\n",
    "for i in range(len(keys)):\n",
    "    df=grp_dict[keys[i]]\n",
    "    data_matrix=np.array(df).T\n",
    "    food_similarity_matrix=euclidean_similarity(data_matrix,data_matrix) #Find the user-similarity matrix based on ed similarity\n",
    "    sim_mat_dic_m3[keys[i]]=food_similarity_matrix"
   ]
  },
  {
   "cell_type": "markdown",
   "id": "4c7f885e",
   "metadata": {
    "id": "4c7f885e"
   },
   "source": [
    "## Model4 (features from user-food matrix & manhattan distance similarity)"
   ]
  },
  {
   "cell_type": "code",
   "execution_count": 12,
   "id": "ca47e34c",
   "metadata": {
    "id": "ca47e34c"
   },
   "outputs": [],
   "source": [
    "def manhattan_similarity(matrix1,matrix2):\n",
    "    manhattan_dist=manhattan_distances(matrix1,matrix2)#find distance \n",
    "    scaler = MinMaxScaler()#scale it\n",
    "    # transform data\n",
    "    manhattan_dist_scaled = scaler.fit_transform(manhattan_dist)\n",
    "    manhattan_sim=1-manhattan_dist_scaled #minus 1 to find similarity \n",
    "    return(manhattan_sim)\n"
   ]
  },
  {
   "cell_type": "code",
   "execution_count": 13,
   "id": "fe76d3d8",
   "metadata": {
    "id": "fe76d3d8"
   },
   "outputs": [],
   "source": [
    "sim_mat_dic_m5={}\n",
    "for i in range(len(keys)):\n",
    "    df=grp_dict[keys[i]]\n",
    "    data_matrix=np.array(df).T\n",
    "    food_similarity_matrix= manhattan_similarity(data_matrix,data_matrix) #Find the user-similarity matrix based on md similarity\n",
    "    sim_mat_dic_m5[keys[i]]=food_similarity_matrix"
   ]
  },
  {
   "cell_type": "markdown",
   "id": "f8ad9ad4",
   "metadata": {
    "id": "f8ad9ad4"
   },
   "source": [
    "# Evaluating models part\n"
   ]
  },
  {
   "cell_type": "code",
   "execution_count": 14,
   "id": "27b6bdbe",
   "metadata": {
    "id": "27b6bdbe"
   },
   "outputs": [],
   "source": [
    "def rmse_calc(matrix,test_data_idx):    \n",
    "    matrix=matrix.T\n",
    "    ###test data take from indexes\n",
    "    test=[]\n",
    "    for i in range(len(matrix)):\n",
    "        test.append(matrix[i,test_data_idx[i]])\n",
    "    test=np.array(test)\n",
    "    err=np.sqrt(np.mean((test-1)**2)) # calculation of  error\n",
    "    return(err)"
   ]
  },
  {
   "cell_type": "code",
   "execution_count": 15,
   "id": "fef93325",
   "metadata": {
    "id": "fef93325"
   },
   "outputs": [],
   "source": [
    "def mse_calc(matrix,test_data_idx):    \n",
    "    matrix=matrix.T\n",
    "    ###test data take from indexes\n",
    "    test=[]\n",
    "    for i in range(len(matrix)):\n",
    "        test.append(matrix[i,test_data_idx[i]])\n",
    "    test=np.array(test)\n",
    "    err=np.mean((test-1)**2) # calculation of  error\n",
    "    return(err)"
   ]
  },
  {
   "cell_type": "code",
   "execution_count": 16,
   "id": "6d85a50c",
   "metadata": {
    "id": "6d85a50c"
   },
   "outputs": [],
   "source": [
    "def mape_calc(matrix,test_data_idx):    \n",
    "    matrix=matrix.T\n",
    "    ###test data take from indexes\n",
    "    test=[]\n",
    "    for i in range(len(matrix)):\n",
    "        test.append(matrix[i,test_data_idx[i]])\n",
    "    test=np.array(test)\n",
    "    err=np.mean(abs(test-1)) # calculation of  error\n",
    "    return(err)"
   ]
  },
  {
   "cell_type": "code",
   "execution_count": 17,
   "id": "c56c8b65",
   "metadata": {
    "id": "c56c8b65"
   },
   "outputs": [],
   "source": [
    "cosine_rmse=[]\n",
    "euclidean_rmse=[]\n",
    "mahanttan_rmse=[]\n",
    "svd_rmse=[]\n",
    "\n",
    "cosine_mse=[]\n",
    "euclidean_mse=[]\n",
    "mahanttan_mse=[]\n",
    "svd_mse=[]\n",
    "\n",
    "cosine_mape=[]\n",
    "euclidean_mape=[]\n",
    "mahanttan_mape=[]\n",
    "svd_mape=[]\n",
    "\n",
    "for i in range(len(keys)):\n",
    "    df=grp_dict[keys[i]]\n",
    "    data_matrix=np.array(df).T\n",
    "    weight=(1/np.sum(data_matrix!=0,axis=0))\n",
    "    food_similarity_matrix_m1=sim_mat_dic_m1[keys[i]]\n",
    "    food_similarity_matrix_m2=sim_mat_dic_m2[keys[i]]\n",
    "    food_similarity_matrix_m3=sim_mat_dic_m3[keys[i]]\n",
    "    food_similarity_matrix_m5=sim_mat_dic_m5[keys[i]]\n",
    "    data_matrix_filed_m1=data_matrix+np.matmul(data_matrix.T,food_similarity_matrix_m1).T*(data_matrix==0)*weight\n",
    "    data_matrix_filed_m2=data_matrix+np.matmul(data_matrix.T,food_similarity_matrix_m2).T*(data_matrix==0)*weight\n",
    "    data_matrix_filed_m3=data_matrix+np.matmul(data_matrix.T,food_similarity_matrix_m3).T*(data_matrix==0)*weight\n",
    "    data_matrix_filed_m5=data_matrix+np.matmul(data_matrix.T,food_similarity_matrix_m5).T*(data_matrix==0)*weight\n",
    "\n",
    "    #rmse \n",
    "    cosine_rmse.append(rmse_calc(data_matrix_filed_m1,test_data[keys[i]]))\n",
    "    euclidean_rmse.append(rmse_calc(data_matrix_filed_m3,test_data[keys[i]]))\n",
    "    mahanttan_rmse.append(rmse_calc(data_matrix_filed_m5,test_data[keys[i]])) \n",
    "    svd_rmse.append(rmse_calc(data_matrix_filed_m2,test_data[keys[i]])) \n",
    "\n",
    "    #mse\n",
    "    cosine_mse.append(mse_calc(data_matrix_filed_m1,test_data[keys[i]]))\n",
    "    euclidean_mse.append(mse_calc(data_matrix_filed_m3,test_data[keys[i]]))\n",
    "    mahanttan_mse.append(mse_calc(data_matrix_filed_m5,test_data[keys[i]]))\n",
    "    svd_mse.append(rmse_calc(data_matrix_filed_m2,test_data[keys[i]]))   \n",
    "\n",
    "    #mape\n",
    "    cosine_mape.append(mape_calc(data_matrix_filed_m1,test_data[keys[i]]))\n",
    "    svd_mape.append(mape_calc(data_matrix_filed_m2,test_data[keys[i]]))\n",
    "    euclidean_mape.append(mape_calc(data_matrix_filed_m3,test_data[keys[i]]))\n",
    "    mahanttan_mape.append(mape_calc(data_matrix_filed_m5,test_data[keys[i]]))\n",
    "    ############################################################"
   ]
  },
  {
   "cell_type": "markdown",
   "id": "86fbde73",
   "metadata": {
    "id": "86fbde73"
   },
   "source": [
    "\n",
    "\n",
    "values  be predicted using the this"
   ]
  },
  {
   "cell_type": "markdown",
   "id": "36727205",
   "metadata": {
    "id": "36727205"
   },
   "source": [
    "**rating_**{(i,j)} = similarity\\_matrix_i * data\\_matrix_j*weight  \n",
    "\n",
    "\n",
    "where, \\\n",
    "\n",
    "\n",
    "similarity\\_matrix_i=$ i th raw of user_similarity_matrix\\\n",
    " data\\_matrix_j= j th column of data_matrix_useritem\\\n",
    "weight=1/sum(data\\_matrix\\_useritem_j !=0)\n",
    "\n",
    "\n",
    "\n"
   ]
  },
  {
   "cell_type": "markdown",
   "id": "Q7Hm-9AQGXcM",
   "metadata": {
    "id": "Q7Hm-9AQGXcM"
   },
   "source": [
    "# Plotting Line Graph with markers at each point "
   ]
  },
  {
   "cell_type": "code",
   "execution_count": 18,
   "id": "yuvAfkK_FQeV",
   "metadata": {
    "colab": {
     "base_uri": "https://localhost:8080/",
     "height": 821
    },
    "id": "yuvAfkK_FQeV",
    "outputId": "8a612979-7b3a-42d0-b884-d56fa430a967"
   },
   "outputs": [
    {
     "data": {
      "image/png": "[encoded data removed]",
      "text/plain": [
       "<Figure size 432x288 with 1 Axes>"
      ]
     },
     "metadata": {
      "needs_background": "light"
     },
     "output_type": "display_data"
    },
    {
     "data": {
      "image/png": "[encoded data removed]",
      "text/plain": [
       "<Figure size 432x288 with 1 Axes>"
      ]
     },
     "metadata": {
      "needs_background": "light"
     },
     "output_type": "display_data"
    },
    {
     "data": {
      "image/png": "[encoded data removed]",
      "text/plain": [
       "<Figure size 432x288 with 1 Axes>"
      ]
     },
     "metadata": {
      "needs_background": "light"
     },
     "output_type": "display_data"
    }
   ],
   "source": [
    "plt.plot([i+1 for i in range(len(cosine_rmse))],cosine_rmse,'b',label='cosine_rmse', marker = 'o')\n",
    "plt.plot([i+1 for i in range(len(cosine_rmse))],svd_rmse,'r',label='svd_rmse', marker = 'o')\n",
    "plt.plot([i+1 for i in range(len(cosine_rmse))],euclidean_rmse,'y',label='euclidean_rmse', marker = 'o')\n",
    "plt.plot([i+1 for i in range(len(cosine_rmse))],mahanttan_rmse,'g',label='mahanttan_rmse', marker = 'o')\n",
    "plt.legend()\n",
    "plt.xlabel('model')\n",
    "plt.ylabel('route mean square error')\n",
    "plt.show()\n",
    "\n",
    "plt.plot([i+1 for i in range(len(cosine_rmse))],cosine_mse,'b',label='cosine_mse', marker = 'o')\n",
    "plt.plot([i+1 for i in range(len(cosine_rmse))],svd_mse,'r',label='svd_mse', marker = 'o')\n",
    "plt.plot([i+1 for i in range(len(cosine_rmse))],euclidean_mse,'y',label='euclidean_mse', marker = 'o')\n",
    "plt.plot([i+1 for i in range(len(cosine_rmse))],mahanttan_mse,'g',label='mahanttan_mse', marker = 'o')\n",
    "\n",
    "plt.legend()\n",
    "plt.xlabel('model')\n",
    "plt.ylabel('mean square error')\n",
    "plt.show()\n",
    "\n",
    "\n",
    "plt.plot([i+1 for i in range(len(cosine_rmse))],cosine_mape,'b',label='cosine_mape', marker = 'o')\n",
    "plt.plot([i+1 for i in range(len(cosine_rmse))],svd_mape,'r',label='svd_mape', marker = 'o')\n",
    "plt.plot([i+1 for i in range(len(cosine_rmse))],euclidean_mape,'y',label='euclidean_mape', marker = 'o')\n",
    "plt.plot([i+1 for i in range(len(cosine_rmse))],mahanttan_mape,'g',label='mahanttan_mape', marker = 'o')\n",
    "\n",
    "\n",
    "plt.legend()\n",
    "plt.xlabel('model')\n",
    "plt.ylabel('mean absolute percentage error')\n",
    "plt.show()"
   ]
  },
  {
   "cell_type": "markdown",
   "id": "2224b50e",
   "metadata": {
    "id": "2224b50e"
   },
   "source": [
    "# Prediction , recommend top 5"
   ]
  },
  {
   "cell_type": "code",
   "execution_count": 19,
   "id": "7847dfb6",
   "metadata": {
    "id": "7847dfb6"
   },
   "outputs": [],
   "source": [
    "def recommend(Gender,Age_Group,food,sim_mat,top_n):\n",
    "    sim_mat=sim_mat[(Gender,Age_Group)]#get which gender and agegroup then see which model to use\n",
    "    idx=np.where(foods==food)[0][0]# get the food and look through\n",
    "    sim_array=sim_mat[idx]#put the index from the previous line into the sim_mat\n",
    "    sim_array[idx]=-1000 # minus 1000 to get the idx, forcing that value to large negetive value.\n",
    "    scores=list(enumerate(sim_array))#To specify each course of a sequence individually\n",
    "    sorted_array=np.array(sorted(scores,key=lambda x: x[1], reverse=True),dtype='uint8')[:,0]# sort and print top 5\n",
    "    print(foods[sorted_array[:top_n]])"
   ]
  },
  {
   "cell_type": "markdown",
   "id": "f3K8a9yatpVI",
   "metadata": {
    "id": "f3K8a9yatpVI"
   },
   "source": [
    "# **Testing with test cases**"
   ]
  },
  {
   "cell_type": "code",
   "execution_count": 20,
   "id": "532f23c0",
   "metadata": {
    "colab": {
     "base_uri": "https://localhost:8080/"
    },
    "id": "532f23c0",
    "outputId": "d9813a99-c7f4-476a-9033-04fa8cf06180"
   },
   "outputs": [
    {
     "name": "stdout",
     "output_type": "stream",
     "text": [
      "['Chili Crab' 'Hokkien Mee' 'Sambal Stingray' 'Satay'\n",
      " 'hainanese chicken rice']\n",
      "['Chili Crab' 'Sambal Stingray' 'Satay' 'Hokkien Mee' 'Katong laksa']\n",
      "['Yu Sheng' 'Katong laksa' 'Beef Kway Teow' 'Sambal Stingray' 'Chili Crab']\n",
      "['Yu Sheng' 'Katong laksa' 'Beef Kway Teow' 'Sambal Stingray' 'Chili Crab']\n"
     ]
    }
   ],
   "source": [
    "Gender='Female'\n",
    "Age_Group='15 - 24'\n",
    "food='Cereal Prawn'\n",
    "recommend(Gender,Age_Group,food,sim_mat_dic_m1,5)\n",
    "recommend(Gender,Age_Group,food,sim_mat_dic_m2,5)\n",
    "recommend(Gender,Age_Group,food,sim_mat_dic_m3,5)\n",
    "recommend(Gender,Age_Group,food,sim_mat_dic_m5,5)"
   ]
  },
  {
   "cell_type": "code",
   "execution_count": 21,
   "id": "86892da7",
   "metadata": {
    "colab": {
     "base_uri": "https://localhost:8080/"
    },
    "id": "86892da7",
    "outputId": "28b9a46e-5c2b-40ea-dbef-19143944a650"
   },
   "outputs": [
    {
     "name": "stdout",
     "output_type": "stream",
     "text": [
      "['Duck Rice' 'Beef Kway Teow' 'Kway Chap' 'Fish and Chips' 'Chili Crab']\n",
      "['Beef Kway Teow' 'Kway Chap' 'Duck Rice' 'Fish and Chips' 'Chili Crab']\n",
      "['Beef Kway Teow' 'Duck Rice' 'Kway Chap' 'Yu Sheng' 'Chili Crab']\n",
      "['Beef Kway Teow' 'Duck Rice' 'Kway Chap' 'Yu Sheng' 'Chili Crab']\n"
     ]
    }
   ],
   "source": [
    "Gender='Female'\n",
    "Age_Group='15 - 24'\n",
    "food='Japanese Bento'\n",
    "recommend(Gender,Age_Group,food,sim_mat_dic_m1,5)\n",
    "recommend(Gender,Age_Group,food,sim_mat_dic_m2,5)\n",
    "recommend(Gender,Age_Group,food,sim_mat_dic_m3,5)\n",
    "recommend(Gender,Age_Group,food,sim_mat_dic_m5,5)"
   ]
  },
  {
   "cell_type": "code",
   "execution_count": 22,
   "id": "0bbe5d49",
   "metadata": {
    "colab": {
     "base_uri": "https://localhost:8080/"
    },
    "id": "0bbe5d49",
    "outputId": "d87f6fc1-1f7c-4db9-ff97-85b8faaf02f3"
   },
   "outputs": [
    {
     "name": "stdout",
     "output_type": "stream",
     "text": [
      "['Chinese Economy Rice' 'Crab Bee Hoon Soup' 'Bak Kut Teh'\n",
      " 'hainanese chicken rice' 'Hokkien Mee']\n",
      "['Japanese Bento' 'Yu Sheng' 'Roti John' 'Katong laksa' 'Kway Chap']\n",
      "['Chinese Economy Rice' 'Crab Bee Hoon Soup' 'Bak Kut Teh'\n",
      " 'hainanese chicken rice' 'Kway Chap']\n",
      "['Chinese Economy Rice' 'Crab Bee Hoon Soup' 'Bak Kut Teh'\n",
      " 'hainanese chicken rice' 'Kway Chap']\n"
     ]
    }
   ],
   "source": [
    "Gender='Female'\n",
    "Age_Group='65 and above'\n",
    "food='Sliced Fish Soup'\n",
    "recommend(Gender,Age_Group,food,sim_mat_dic_m1,5)\n",
    "recommend(Gender,Age_Group,food,sim_mat_dic_m2,5)\n",
    "recommend(Gender,Age_Group,food,sim_mat_dic_m3,5)\n",
    "recommend(Gender,Age_Group,food,sim_mat_dic_m5,5)"
   ]
  }
 ],
 "metadata": {
  "colab": {
   "name": "fooddataset_model.ipynb",
   "provenance": []
  },
  "kernelspec": {
   "display_name": "Python 3 (ipykernel)",
   "language": "python",
   "name": "python3"
  },
  "language_info": {
   "codemirror_mode": {
    "name": "ipython",
    "version": 3
   },
   "file_extension": ".py",
   "mimetype": "text/x-python",
   "name": "python",
   "nbconvert_exporter": "python",
   "pygments_lexer": "ipython3",
   "version": "3.8.0"
  }
 },
 "nbformat": 4,
 "nbformat_minor": 5
}
