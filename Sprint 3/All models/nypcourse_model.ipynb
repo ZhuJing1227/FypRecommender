{
  "cells": [
    {
      "cell_type": "markdown",
      "id": "aba3d21f",
      "metadata": {
        "id": "aba3d21f"
      },
      "source": [
        "# Importing Libraries \n"
      ]
    },
    {
      "cell_type": "code",
      "source": [
        "!pip install implicit"
      ],
      "metadata": {
        "colab": {
          "base_uri": "https://localhost:8080/"
        },
        "id": "tlbsL6PGMb48",
        "outputId": "d593b9b7-490f-45bf-e969-cbe1fb5355d0"
      },
      "id": "tlbsL6PGMb48",
      "execution_count": 1,
      "outputs": [
        {
          "output_type": "stream",
          "name": "stdout",
          "text": [
            "Looking in indexes: https://pypi.org/simple, https://us-python.pkg.dev/colab-wheels/public/simple/\n",
            "Collecting implicit\n",
            "  Downloading implicit-0.5.2-cp37-cp37m-manylinux2014_x86_64.whl (18.5 MB)\n",
            "\u001b[K     |████████████████████████████████| 18.5 MB 1.4 MB/s \n",
            "\u001b[?25hRequirement already satisfied: scipy>=0.16 in /usr/local/lib/python3.7/dist-packages (from implicit) (1.4.1)\n",
            "Requirement already satisfied: numpy in /usr/local/lib/python3.7/dist-packages (from implicit) (1.21.6)\n",
            "Requirement already satisfied: tqdm>=4.27 in /usr/local/lib/python3.7/dist-packages (from implicit) (4.64.0)\n",
            "Installing collected packages: implicit\n",
            "Successfully installed implicit-0.5.2\n"
          ]
        }
      ]
    },
    {
      "cell_type": "code",
      "execution_count": 2,
      "id": "8d794806",
      "metadata": {
        "id": "8d794806",
        "colab": {
          "base_uri": "https://localhost:8080/"
        },
        "outputId": "6aed45b9-fc12-4841-a3a9-e776775f0d87"
      },
      "outputs": [
        {
          "output_type": "stream",
          "name": "stderr",
          "text": [
            "/usr/local/lib/python3.7/dist-packages/implicit/gpu/__init__.py:14: UserWarning: CUDA extension is built, but disabling GPU support because of 'Cuda Error: no CUDA-capable device is detected (/project/./implicit/gpu/utils.h:71)'\n",
            "  f\"CUDA extension is built, but disabling GPU support because of '{e}'\",\n"
          ]
        }
      ],
      "source": [
        "import pandas as pd\n",
        "import numpy as np\n",
        "from sklearn.metrics.pairwise import cosine_similarity,manhattan_distances\n",
        "import seaborn as sns\n",
        "import implicit \n",
        "from sklearn.feature_extraction.text import TfidfVectorizer\n",
        "import scipy.sparse as sparse\n",
        "import matplotlib.pyplot as plt\n",
        "from scipy.sparse.linalg import svds\n",
        "from sklearn.metrics.pairwise import euclidean_distances\n",
        "from sklearn.preprocessing import MinMaxScaler\n",
        "import warnings\n",
        "warnings.filterwarnings('ignore')\n",
        "sns.set(style = 'white')"
      ]
    },
    {
      "cell_type": "markdown",
      "id": "44a035f3",
      "metadata": {
        "id": "44a035f3"
      },
      "source": [
        "# Data Loading , Analysing & Preprocessing"
      ]
    },
    {
      "cell_type": "code",
      "execution_count": 3,
      "id": "0adcd1f3",
      "metadata": {
        "id": "0adcd1f3"
      },
      "outputs": [],
      "source": [
        "df_courses=pd.read_csv('(Responses)k - compiled (1).csv')\n",
        "df_courses.drop(['Please choose 6  courses that you will choose /  interest you / have chosen'], axis=1, inplace=True)"
      ]
    },
    {
      "cell_type": "code",
      "execution_count": 4,
      "id": "ab00b298",
      "metadata": {
        "id": "ab00b298"
      },
      "outputs": [],
      "source": [
        "columns=['Gender', 'Business & Financial Technology (SIT)',\n",
        "       'Information Technology (SIT)', 'Infocomm & Security (SIT)',\n",
        "       'Cybersecurity  & Digital Forensics (SIT)',\n",
        "       'Business Intelligence & Analytics (SIT)', 'Common ICT Programme (SIT)',\n",
        "       'Experiential Product & Interior Design (SDM)',\n",
        "       'Animation & Visual Effects (SDM)', 'Architecture  (SDM)',\n",
        "       'Interaction Design (SDM)', 'Digital Game Art & Design (SDM)',\n",
        "       'Visual Communication (SDM)', 'Motion Graphics Design (SDM)',\n",
        "       'Game Development & Technology (SDM)', 'Applied Chemistry (SAS)',\n",
        "       'Biologics & Process Technology (SAS)',\n",
        "       'Chemical & Pharmaceutical Technology (SAS)',\n",
        "       'Food Science & Nutrition (SAS)', 'Pharmaceutical Science (SAS)',\n",
        "       'Accountancy & Finance (SBM)', 'Banking & Finance (SBM)',\n",
        "       'Business Management (SBM)', 'Food & Beverage Business (SBM)',\n",
        "       'Hospitality & Tourism Management (SBM)', 'Mass Media Management (SBM)',\n",
        "       'Sport & Wellness Management (SBM)', 'Common Business Programme (SBM)',\n",
        "       'Advanced & Digital Manufacturing (SEG)',\n",
        "       'Aeronautical & Aerospace Technology (SEG)',\n",
        "       'Aerospace Systems & Management (SEG)', 'AI & Data Engineering (SEG)',\n",
        "       'Biomedical Engineering (SEG)',\n",
        "       'Electronic & Computer Engineering (SEG)',\n",
        "       'Engineering with Business (SEG)', 'Infocomm & Media Engineering (SEG)',\n",
        "       'Nanotechnology & Materials Science (SEG)',\n",
        "       'Robotics & Mechatronics (SEG)', 'Common Engineering Programme (SEG)',\n",
        "       'Nursing (SHSS)', 'Oral Health Therapy (SHSS)', 'Social Work (SHSS)']\n",
        "df_courses=df_courses[columns]"
      ]
    },
    {
      "cell_type": "code",
      "execution_count": 5,
      "id": "c8605ee9",
      "metadata": {
        "id": "c8605ee9"
      },
      "outputs": [],
      "source": [
        "grp_dict={}\n",
        "test_data={}\n",
        "grp = df_courses.groupby(['Gender'])\n",
        "for name, df in grp:\n",
        "    df.drop(['Gender'], axis=1, inplace=True)\n",
        "    df=df.reset_index().drop(['index'],axis=1)\n",
        "    df_mat=np.array(df)\n",
        "    test_indxs=[]\n",
        "    ### extract test data ###\n",
        "    for i in range(len(df)):\n",
        "        indxs=np.where(np.array(df.iloc[i])==1)[0]\n",
        "        test_indx=np.random.choice(indxs, size=1)[0]\n",
        "        df_mat[i][test_indx]=0\n",
        "        test_indxs.append(test_indx)\n",
        "    ##########################\n",
        "    test_data[name]=test_indxs\n",
        "    grp_dict[name]=df_mat\n",
        "keys=list(grp_dict.keys())\n",
        "courses=np.array(df.columns)"
      ]
    },
    {
      "cell_type": "code",
      "source": [
        "keys #check to see whats the key"
      ],
      "metadata": {
        "colab": {
          "base_uri": "https://localhost:8080/"
        },
        "id": "d0xHNv7puIqv",
        "outputId": "3c501921-53b5-423d-d00d-71c8aa04aea8"
      },
      "id": "d0xHNv7puIqv",
      "execution_count": 6,
      "outputs": [
        {
          "output_type": "execute_result",
          "data": {
            "text/plain": [
              "['Female', 'Male']"
            ]
          },
          "metadata": {},
          "execution_count": 6
        }
      ]
    },
    {
      "cell_type": "markdown",
      "id": "ca65e898",
      "metadata": {
        "id": "ca65e898"
      },
      "source": [
        "one food from each user has been selected as the test data and the index of the \n",
        "\n",
        "---\n",
        "\n",
        "column that represents the selected food is saved in a list."
      ]
    },
    {
      "cell_type": "code",
      "execution_count": 7,
      "id": "9fb48104",
      "metadata": {
        "id": "9fb48104"
      },
      "outputs": [],
      "source": [
        "df_anly=df_courses.groupby(['Gender']).sum().reset_index()"
      ]
    },
    {
      "cell_type": "code",
      "execution_count": 8,
      "id": "fd6d21db",
      "metadata": {
        "id": "fd6d21db"
      },
      "outputs": [],
      "source": [
        "df_anly['group id']=[i for i in range(len(df_anly))]"
      ]
    },
    {
      "cell_type": "code",
      "execution_count": 9,
      "id": "f0bab2b3",
      "metadata": {
        "id": "f0bab2b3"
      },
      "outputs": [],
      "source": [
        "# for name in courses:\n",
        "#     sns.barplot(x = 'group id',y = name,data = df_anly)\n",
        "#     plt.show()"
      ]
    },
    {
      "cell_type": "markdown",
      "id": "8c6cf4c0",
      "metadata": {
        "id": "8c6cf4c0"
      },
      "source": [
        "# Collaborative filtering"
      ]
    },
    {
      "cell_type": "markdown",
      "id": "f00d63b7",
      "metadata": {
        "id": "f00d63b7"
      },
      "source": [
        "## Model 1:  (features from user-food matrix & cosine similarity)"
      ]
    },
    {
      "cell_type": "markdown",
      "id": "ebbafe3f",
      "metadata": {
        "id": "ebbafe3f"
      },
      "source": [
        "vectors in the user-food matrix have been directly used as feature vectors "
      ]
    },
    {
      "cell_type": "code",
      "execution_count": 10,
      "id": "95600771",
      "metadata": {
        "id": "95600771"
      },
      "outputs": [],
      "source": [
        "sim_mat_dic_m1={}\n",
        "for i in range(len(keys)):\n",
        "    df=grp_dict[keys[i]]\n",
        "    data_matrix=np.array(df).T\n",
        "    food_similarity_matrix=cosine_similarity(data_matrix,data_matrix) #Find the user-similarity matrix based on cosine similarity\n",
        "    sim_mat_dic_m1[keys[i]]=food_similarity_matrix"
      ]
    },
    {
      "cell_type": "markdown",
      "id": "60475aa1",
      "metadata": {
        "id": "60475aa1"
      },
      "source": [
        "## Model 2: (features from Singular value decomposition& cosine similarity)"
      ]
    },
    {
      "cell_type": "markdown",
      "id": "4cfbf5b8",
      "metadata": {
        "id": "4cfbf5b8"
      },
      "source": [
        "Singular value decomposition  has been used to generate feature vectors."
      ]
    },
    {
      "cell_type": "code",
      "execution_count": 11,
      "id": "14a139ac",
      "metadata": {
        "id": "14a139ac"
      },
      "outputs": [],
      "source": [
        "sim_mat_dic_m2={}\n",
        "for i in range(len(keys)):\n",
        "    df=grp_dict[keys[i]]\n",
        "    R = np.array(df).T\n",
        "    mean = np.mean(R, axis = 1)\n",
        "    data_matrix = R - mean.reshape(-1, 1)\n",
        "    U, sigma, Vt = svds(data_matrix, k = np.min(data_matrix.shape)-1)\n",
        "    sigma = np.diag(sigma)\n",
        "    feature_matrix=np.dot(U, sigma)\n",
        "    food_similarity_matrix=cosine_similarity(feature_matrix,feature_matrix) #Find the user-similarity matrix based on cosine similarity\n",
        "    sim_mat_dic_m2[keys[i]]=food_similarity_matrix"
      ]
    },
    {
      "cell_type": "markdown",
      "id": "3ae614f0",
      "metadata": {
        "id": "3ae614f0"
      },
      "source": [
        "## Model 3: (features from user-food matrix & euclidean distance similarity)"
      ]
    },
    {
      "cell_type": "code",
      "execution_count": 12,
      "id": "23f11dfc",
      "metadata": {
        "id": "23f11dfc"
      },
      "outputs": [],
      "source": [
        "def euclidean_similarity(matrix1,matrix2):\n",
        "    euclidean_dist=euclidean_distances(matrix1,matrix2)\n",
        "    scaler = MinMaxScaler()\n",
        "    # transform data\n",
        "    euclidean_dist_scaled = scaler.fit_transform(euclidean_dist)\n",
        "    euclidean_sim=1-euclidean_dist_scaled \n",
        "    return(euclidean_sim)"
      ]
    },
    {
      "cell_type": "code",
      "execution_count": 13,
      "id": "879399f5",
      "metadata": {
        "id": "879399f5"
      },
      "outputs": [],
      "source": [
        "sim_mat_dic_m3={}\n",
        "for i in range(len(keys)):\n",
        "    df=grp_dict[keys[i]]\n",
        "    data_matrix=np.array(df).T\n",
        "    food_similarity_matrix=euclidean_similarity(data_matrix,data_matrix) #Find the user-similarity matrix based on euclidean similarity\n",
        "    sim_mat_dic_m3[keys[i]]=food_similarity_matrix"
      ]
    },
    {
      "cell_type": "markdown",
      "id": "4c7f885e",
      "metadata": {
        "id": "4c7f885e"
      },
      "source": [
        "## Model 4:  (features from user-food matrix & manhattan distance similarity)"
      ]
    },
    {
      "cell_type": "code",
      "execution_count": 14,
      "id": "ca47e34c",
      "metadata": {
        "id": "ca47e34c"
      },
      "outputs": [],
      "source": [
        "def manhattan_similarity(matrix1,matrix2):\n",
        "    manhattan_dist=manhattan_distances(matrix1,matrix2)\n",
        "    scaler = MinMaxScaler()\n",
        "    # transform data\n",
        "    manhattan_dist_scaled = scaler.fit_transform(manhattan_dist)\n",
        "    manhattan_sim=1-manhattan_dist_scaled \n",
        "    return(manhattan_sim)\n"
      ]
    },
    {
      "cell_type": "code",
      "execution_count": 15,
      "id": "fe76d3d8",
      "metadata": {
        "id": "fe76d3d8"
      },
      "outputs": [],
      "source": [
        "sim_mat_dic_m5={}\n",
        "for i in range(len(keys)):\n",
        "    df=grp_dict[keys[i]]\n",
        "    data_matrix=np.array(df).T\n",
        "    food_similarity_matrix= manhattan_similarity(data_matrix,data_matrix) #Find the user-similarity matrix based on manhattan similarity\n",
        "    sim_mat_dic_m5[keys[i]]=food_similarity_matrix"
      ]
    },
    {
      "cell_type": "markdown",
      "id": "f8ad9ad4",
      "metadata": {
        "id": "f8ad9ad4"
      },
      "source": [
        "# Evaluation"
      ]
    },
    {
      "cell_type": "markdown",
      "id": "904bbe61",
      "metadata": {
        "id": "904bbe61"
      },
      "source": [
        "evaluation will be done on the test data . "
      ]
    },
    {
      "cell_type": "code",
      "execution_count": 16,
      "id": "27b6bdbe",
      "metadata": {
        "id": "27b6bdbe"
      },
      "outputs": [],
      "source": [
        "def rmse_calc(matrix,test_data_idx):    \n",
        "    matrix=matrix.T\n",
        "    ###extract the test data using indexes\n",
        "    test=[]\n",
        "    for i in range(len(matrix)):\n",
        "        test.append(matrix[i,test_data_idx[i]])\n",
        "    test=np.array(test)\n",
        "    #####################################\n",
        "    err=np.sqrt(np.mean((test-1)**2)) # calculate the error\n",
        "    return(err)"
      ]
    },
    {
      "cell_type": "code",
      "execution_count": 17,
      "id": "fef93325",
      "metadata": {
        "id": "fef93325"
      },
      "outputs": [],
      "source": [
        "def mse_calc(matrix,test_data_idx):    \n",
        "    matrix=matrix.T\n",
        "    ###extract the test data using indexes\n",
        "    test=[]\n",
        "    for i in range(len(matrix)):\n",
        "        test.append(matrix[i,test_data_idx[i]])\n",
        "    test=np.array(test)\n",
        "    #####################################\n",
        "    err=np.mean((test-1)**2) # calculate the error\n",
        "    return(err)"
      ]
    },
    {
      "cell_type": "code",
      "execution_count": 18,
      "id": "6d85a50c",
      "metadata": {
        "id": "6d85a50c"
      },
      "outputs": [],
      "source": [
        "def mape_calc(matrix,test_data_idx):    \n",
        "    matrix=matrix.T\n",
        "    ###extract the test data using indexes\n",
        "    test=[]\n",
        "    for i in range(len(matrix)):\n",
        "        test.append(matrix[i,test_data_idx[i]])\n",
        "    test=np.array(test)\n",
        "    #####################################\n",
        "    err=np.mean(abs(test-1)) # calculate the error\n",
        "    return(err)"
      ]
    },
    {
      "cell_type": "markdown",
      "source": [
        "Counting and Keeping the error count in the list"
      ],
      "metadata": {
        "id": "7b3xiUmmFBKz"
      },
      "id": "7b3xiUmmFBKz"
    },
    {
      "cell_type": "code",
      "execution_count": 19,
      "id": "c56c8b65",
      "metadata": {
        "id": "c56c8b65"
      },
      "outputs": [],
      "source": [
        "rmse_m1=[]\n",
        "rmse_m2=[]\n",
        "rmse_m3=[]\n",
        "rmse_m5=[]\n",
        "mse_m1=[]\n",
        "mse_m2=[]\n",
        "mse_m3=[]\n",
        "mse_m5=[]\n",
        "\n",
        "mape_m1=[]\n",
        "mape_m2=[]\n",
        "mape_m3=[]\n",
        "mape_m5=[]\n",
        "for i in range(len(keys)):\n",
        "    df=grp_dict[keys[i]]\n",
        "    data_matrix=np.array(df).T\n",
        "    weight=(1/np.sum(data_matrix!=0,axis=0))\n",
        "    food_similarity_matrix_m1=sim_mat_dic_m1[keys[i]]\n",
        "    food_similarity_matrix_m2=sim_mat_dic_m2[keys[i]]\n",
        "    food_similarity_matrix_m3=sim_mat_dic_m3[keys[i]]\n",
        "    food_similarity_matrix_m5=sim_mat_dic_m5[keys[i]]\n",
        "    data_matrix_filed_m1=data_matrix+np.matmul(data_matrix.T,food_similarity_matrix_m1).T*(data_matrix==0)*weight\n",
        "    data_matrix_filed_m2=data_matrix+np.matmul(data_matrix.T,food_similarity_matrix_m2).T*(data_matrix==0)*weight\n",
        "    data_matrix_filed_m3=data_matrix+np.matmul(data_matrix.T,food_similarity_matrix_m3).T*(data_matrix==0)*weight\n",
        "    data_matrix_filed_m5=data_matrix+np.matmul(data_matrix.T,food_similarity_matrix_m5).T*(data_matrix==0)*weight\n",
        "    rmse_m1.append(rmse_calc(data_matrix_filed_m1,test_data[keys[i]]))\n",
        "    rmse_m2.append(rmse_calc(data_matrix_filed_m2,test_data[keys[i]]))\n",
        "    rmse_m3.append(rmse_calc(data_matrix_filed_m3,test_data[keys[i]]))\n",
        "    rmse_m5.append(rmse_calc(data_matrix_filed_m5,test_data[keys[i]]))  \n",
        "    mse_m1.append(mse_calc(data_matrix_filed_m1,test_data[keys[i]]))\n",
        "    mse_m2.append(mse_calc(data_matrix_filed_m2,test_data[keys[i]]))\n",
        "    mse_m3.append(mse_calc(data_matrix_filed_m3,test_data[keys[i]]))\n",
        "    mse_m5.append(mse_calc(data_matrix_filed_m5,test_data[keys[i]]))  \n",
        "    mape_m1.append(mape_calc(data_matrix_filed_m1,test_data[keys[i]]))\n",
        "    mape_m2.append(mape_calc(data_matrix_filed_m2,test_data[keys[i]]))\n",
        "    mape_m3.append(mape_calc(data_matrix_filed_m3,test_data[keys[i]]))\n",
        "    mape_m5.append(mape_calc(data_matrix_filed_m5,test_data[keys[i]]))\n",
        "    ############################################################"
      ]
    },
    {
      "cell_type": "markdown",
      "source": [
        "below codes is rmse calc for 1 of the model , in this case m1 , i've written it like that so its easier to understand."
      ],
      "metadata": {
        "id": "jcMImbKvZPIC"
      },
      "id": "jcMImbKvZPIC"
    },
    {
      "cell_type": "code",
      "source": [
        "rmse_m1=[]\n",
        "\n",
        "for i in range(len(keys)):\n",
        "    df=grp_dict[keys[i]] # find the data related to each key\n",
        "    data_matrix=np.array(df).T  #transposed array \n",
        "    weight=(1/np.sum(data_matrix!=0,axis=0)) #calculate the weight\n",
        "    food_similarity_matrix_m1=sim_mat_dic_m1[keys[i]]   #get the matrix by the group key, so example(female , 15-24) then they will find for this and use this model\n",
        "    data_matrix_filed_m1=data_matrix+np.matmul(data_matrix.T,food_similarity_matrix_m1).T*(data_matrix==0)*weight # is calculating the missing values\n",
        "    rmse_m1.append(rmse_calc(data_matrix_filed_m1,test_data[keys[i]]))# append the calculation \n",
        "rmse_m1"
      ],
      "metadata": {
        "colab": {
          "base_uri": "https://localhost:8080/"
        },
        "id": "Zan8RelCqeC7",
        "outputId": "6e15b2f9-ebaf-4880-9299-a83979664fc2"
      },
      "id": "Zan8RelCqeC7",
      "execution_count": 20,
      "outputs": [
        {
          "output_type": "execute_result",
          "data": {
            "text/plain": [
              "[0.6654371122982661, 0.680472325073591]"
            ]
          },
          "metadata": {},
          "execution_count": 20
        }
      ]
    },
    {
      "cell_type": "markdown",
      "id": "86fbde73",
      "metadata": {
        "id": "86fbde73"
      },
      "source": [
        "values can be predicted using the following equation"
      ]
    },
    {
      "cell_type": "markdown",
      "id": "36727205",
      "metadata": {
        "id": "36727205"
      },
      "source": [
        "$rating_{(i,j)}$=similarity\\_matrix_i * data\\_matrix_j*weight  \\\n",
        "where,\\\n",
        "similarity\\_matrix_i= i th raw of user_similarity_matrix\\\n",
        " data\\_matrix_j= j th column of data_matrix_useritem\\\n",
        "weight=1/sum(data\\_matrix\\_useritem_j !=0)"
      ]
    },
    {
      "cell_type": "code",
      "source": [
        "#vector which has similarity values of foods.\n"
      ],
      "metadata": {
        "id": "EwZf6Y9L8vPv"
      },
      "id": "EwZf6Y9L8vPv",
      "execution_count": 21,
      "outputs": []
    },
    {
      "cell_type": "markdown",
      "source": [
        "# **Plotting a line graph to look at the resutls**"
      ],
      "metadata": {
        "id": "3A-FUxYIFIxJ"
      },
      "id": "3A-FUxYIFIxJ"
    },
    {
      "cell_type": "code",
      "execution_count": 22,
      "id": "17d5fddd",
      "metadata": {
        "colab": {
          "base_uri": "https://localhost:8080/",
          "height": 823
        },
        "id": "17d5fddd",
        "outputId": "58b66ba2-7d3c-4221-c0be-f62f34c0d4ac"
      },
      "outputs": [
        {
          "output_type": "display_data",
          "data": {
            "text/plain": [
              "<Figure size 432x288 with 1 Axes>"
            ],
            "image/png": "[encoded data removed]"
          },
          "metadata": {}
        },
        {
          "output_type": "display_data",
          "data": {
            "text/plain": [
              "<Figure size 432x288 with 1 Axes>"
            ],
            "image/png": "[encoded data removed]"
          },
          "metadata": {}
        },
        {
          "output_type": "display_data",
          "data": {
            "text/plain": [
              "<Figure size 432x288 with 1 Axes>"
            ],
            "image/png": "[encoded data removed]"
          },
          "metadata": {}
        }
      ],
      "source": [
        "plt.plot([i+1 for i in range(len(rmse_m1))],rmse_m1,'b',label='rmse_m1')\n",
        "plt.plot([i+1 for i in range(len(rmse_m1))],rmse_m2,'r',label='rmse_m2')\n",
        "plt.plot([i+1 for i in range(len(rmse_m1))],rmse_m3,'y',label='rmse_m3')\n",
        "plt.plot([i+1 for i in range(len(rmse_m1))],rmse_m5,'black',label='rmse_m5')\n",
        "# plt.legend()\n",
        "plt.xlabel('model')\n",
        "plt.ylabel('route mean square error')\n",
        "plt.show()\n",
        "\n",
        "plt.plot([i+1 for i in range(len(rmse_m1))],mse_m1,'b',label='mse_m1')\n",
        "plt.plot([i+1 for i in range(len(rmse_m1))],mse_m2,'r',label='mse_m2')\n",
        "plt.plot([i+1 for i in range(len(rmse_m1))],mse_m3,'y',label='mse_m3')\n",
        "plt.plot([i+1 for i in range(len(rmse_m1))],mse_m5,'black',label='mse_m5')\n",
        "# plt.legend()\n",
        "plt.xlabel('model')\n",
        "plt.ylabel('mean square error')\n",
        "plt.show()\n",
        "\n",
        "\n",
        "plt.plot([i+1 for i in range(len(rmse_m1))],mape_m1,'b',label='mape_m1')\n",
        "plt.plot([i+1 for i in range(len(rmse_m1))],mape_m2,'r',label='mape_m2')\n",
        "plt.plot([i+1 for i in range(len(rmse_m1))],mape_m3,'y',label='mape_m3')\n",
        "plt.plot([i+1 for i in range(len(rmse_m1))],mape_m5,'black',label='mape_m5')\n",
        "# plt.legend()\n",
        "plt.xlabel('model')\n",
        "plt.ylabel('mean absolute percentage error')\n",
        "plt.show()"
      ]
    },
    {
      "cell_type": "markdown",
      "source": [
        "# **RMSE group bar graph**"
      ],
      "metadata": {
        "id": "01B57ch2eWCP"
      },
      "id": "01B57ch2eWCP"
    },
    {
      "cell_type": "code",
      "source": [
        "a1=rmse_m1[0]\n",
        "b1=rmse_m2[0]\n",
        "c1=rmse_m3[0]\n",
        "d1=rmse_m5[0]\n",
        "\n",
        "print(a1)\n",
        "print(b1)\n",
        "print(c1)\n",
        "print(d1)"
      ],
      "metadata": {
        "colab": {
          "base_uri": "https://localhost:8080/"
        },
        "id": "boPP70MyUdIO",
        "outputId": "2e6b0639-058f-4a14-d7a2-210c5a530724"
      },
      "id": "boPP70MyUdIO",
      "execution_count": 23,
      "outputs": [
        {
          "output_type": "stream",
          "name": "stdout",
          "text": [
            "0.6654371122982661\n",
            "0.7759394812884549\n",
            "0.7094094090875935\n",
            "0.5387324825260419\n"
          ]
        }
      ]
    },
    {
      "cell_type": "code",
      "source": [
        "rmse_models_female=[]\n",
        "rmse_models_female.append(a1)\n",
        "rmse_models_female.append(b1)\n",
        "rmse_models_female.append(c1)\n",
        "rmse_models_female.append(d1)\n",
        "\n",
        "rmse_models_female"
      ],
      "metadata": {
        "colab": {
          "base_uri": "https://localhost:8080/"
        },
        "id": "_4Wz1wTfUxAw",
        "outputId": "6adc272d-465f-49e8-a8b0-44b3a1a1e1c5"
      },
      "id": "_4Wz1wTfUxAw",
      "execution_count": 24,
      "outputs": [
        {
          "output_type": "execute_result",
          "data": {
            "text/plain": [
              "[0.6654371122982661,\n",
              " 0.7759394812884549,\n",
              " 0.7094094090875935,\n",
              " 0.5387324825260419]"
            ]
          },
          "metadata": {},
          "execution_count": 24
        }
      ]
    },
    {
      "cell_type": "code",
      "source": [
        "a2=rmse_m1[1]\n",
        "b2=rmse_m2[1]\n",
        "c2=rmse_m3[1]\n",
        "d2=rmse_m5[1]\n",
        "\n",
        "print(a2)\n",
        "print(b2)\n",
        "print(c2)\n",
        "print(d2)\n"
      ],
      "metadata": {
        "colab": {
          "base_uri": "https://localhost:8080/"
        },
        "id": "WUPFR1miVFMB",
        "outputId": "4ba99641-dc00-4735-d877-ec445d334101"
      },
      "id": "WUPFR1miVFMB",
      "execution_count": 25,
      "outputs": [
        {
          "output_type": "stream",
          "name": "stdout",
          "text": [
            "0.680472325073591\n",
            "0.8051303887149147\n",
            "0.7112062340685273\n",
            "0.5469812357775291\n"
          ]
        }
      ]
    },
    {
      "cell_type": "code",
      "source": [
        "rmse_models_male=[]\n",
        "rmse_models_male.append(a2)\n",
        "rmse_models_male.append(b2)\n",
        "rmse_models_male.append(c2)\n",
        "rmse_models_male.append(d2)"
      ],
      "metadata": {
        "id": "UXQgncaAVMoj"
      },
      "id": "UXQgncaAVMoj",
      "execution_count": 26,
      "outputs": []
    },
    {
      "cell_type": "code",
      "source": [
        "a=rmse_m1\n",
        "b=rmse_m2\n",
        "c=rmse_m3\n",
        "d=rmse_m5\n",
        "\n",
        "print(a)\n",
        "print(b)\n",
        "print(c)\n",
        "print(d)"
      ],
      "metadata": {
        "colab": {
          "base_uri": "https://localhost:8080/"
        },
        "id": "2fd_b9HOUmDW",
        "outputId": "ff122d51-876b-45e7-d2ac-7af4e441582c"
      },
      "id": "2fd_b9HOUmDW",
      "execution_count": 27,
      "outputs": [
        {
          "output_type": "stream",
          "name": "stdout",
          "text": [
            "[0.6654371122982661, 0.680472325073591]\n",
            "[0.7759394812884549, 0.8051303887149147]\n",
            "[0.7094094090875935, 0.7112062340685273]\n",
            "[0.5387324825260419, 0.5469812357775291]\n"
          ]
        }
      ]
    },
    {
      "cell_type": "markdown",
      "source": [
        ""
      ],
      "metadata": {
        "id": "Gqmdle4yKyUG"
      },
      "id": "Gqmdle4yKyUG"
    },
    {
      "cell_type": "code",
      "source": [
        "\n",
        "mape_m2"
      ],
      "metadata": {
        "colab": {
          "base_uri": "https://localhost:8080/"
        },
        "id": "Pl86LOGuGZzU",
        "outputId": "054221f5-69f7-4cfc-cc21-4ec4a0d02760"
      },
      "id": "Pl86LOGuGZzU",
      "execution_count": 28,
      "outputs": [
        {
          "output_type": "execute_result",
          "data": {
            "text/plain": [
              "[0.7524279918498848, 0.7891511388308163]"
            ]
          },
          "metadata": {},
          "execution_count": 28
        }
      ]
    },
    {
      "cell_type": "code",
      "source": [
        "sum(mape_m5)/len(mape_m5)"
      ],
      "metadata": {
        "colab": {
          "base_uri": "https://localhost:8080/"
        },
        "id": "xgxAa1wQGLaU",
        "outputId": "bd63ae5b-9d32-4b7f-a9a2-a17725fd152d"
      },
      "id": "xgxAa1wQGLaU",
      "execution_count": 29,
      "outputs": [
        {
          "output_type": "execute_result",
          "data": {
            "text/plain": [
              "0.5140413936793689"
            ]
          },
          "metadata": {},
          "execution_count": 29
        }
      ]
    },
    {
      "cell_type": "markdown",
      "source": [
        "# **MSE Group bar chart**"
      ],
      "metadata": {
        "id": "tQaXFu_OeeuE"
      },
      "id": "tQaXFu_OeeuE"
    },
    {
      "cell_type": "code",
      "source": [
        "a=mse_m1\n",
        "b=mse_m2\n",
        "c=mse_m3\n",
        "d=mse_m5\n",
        "\n",
        "print(a)\n",
        "print(b)\n",
        "print(c)\n",
        "print(d)"
      ],
      "metadata": {
        "colab": {
          "base_uri": "https://localhost:8080/"
        },
        "id": "0k8y6ohfd8wD",
        "outputId": "aef4f28a-032f-4006-9571-22b4e27277f2"
      },
      "id": "0k8y6ohfd8wD",
      "execution_count": 30,
      "outputs": [
        {
          "output_type": "stream",
          "name": "stdout",
          "text": [
            "[0.44280655042385525, 0.46304258519105895]\n",
            "[0.6020820786221965, 0.6482349428322296]\n",
            "[0.5032617097020087, 0.5058143073779369]\n",
            "[0.290232687728672, 0.2991884722927129]\n"
          ]
        }
      ]
    },
    {
      "cell_type": "code",
      "source": [
        "a11=mse_m1[0]\n",
        "b11=mse_m2[0]\n",
        "c11=mse_m3[0]\n",
        "d11=mse_m5[0]\n",
        "\n",
        "print(a11)\n",
        "print(b11)\n",
        "print(c11)\n",
        "print(d11)"
      ],
      "metadata": {
        "colab": {
          "base_uri": "https://localhost:8080/"
        },
        "id": "Wm-FpJw7eCdi",
        "outputId": "f01a7033-c103-4468-9c4b-ce2ffc8fc500"
      },
      "id": "Wm-FpJw7eCdi",
      "execution_count": 31,
      "outputs": [
        {
          "output_type": "stream",
          "name": "stdout",
          "text": [
            "0.44280655042385525\n",
            "0.6020820786221965\n",
            "0.5032617097020087\n",
            "0.290232687728672\n"
          ]
        }
      ]
    },
    {
      "cell_type": "code",
      "source": [
        "mse_models_female=[]\n",
        "mse_models_female.append(a11)\n",
        "mse_models_female.append(b11)\n",
        "mse_models_female.append(c11)\n",
        "mse_models_female.append(d11)\n",
        "\n",
        "mse_models_female"
      ],
      "metadata": {
        "colab": {
          "base_uri": "https://localhost:8080/"
        },
        "id": "-QXq33KNepLF",
        "outputId": "a5b2e67f-cb7c-4986-be13-8aad1de8787f"
      },
      "id": "-QXq33KNepLF",
      "execution_count": 32,
      "outputs": [
        {
          "output_type": "execute_result",
          "data": {
            "text/plain": [
              "[0.44280655042385525,\n",
              " 0.6020820786221965,\n",
              " 0.5032617097020087,\n",
              " 0.290232687728672]"
            ]
          },
          "metadata": {},
          "execution_count": 32
        }
      ]
    },
    {
      "cell_type": "code",
      "source": [
        "a22=mse_m1[1]\n",
        "b22=mse_m2[1]\n",
        "c22=mse_m3[1]\n",
        "d22=mse_m5[1]\n",
        "\n",
        "print(a22)\n",
        "print(b22)\n",
        "print(c22)\n",
        "print(d22)"
      ],
      "metadata": {
        "colab": {
          "base_uri": "https://localhost:8080/"
        },
        "id": "58TjXhH6ekYo",
        "outputId": "b924291b-9ada-4a8b-8b4e-200d67002f88"
      },
      "id": "58TjXhH6ekYo",
      "execution_count": 33,
      "outputs": [
        {
          "output_type": "stream",
          "name": "stdout",
          "text": [
            "0.46304258519105895\n",
            "0.6482349428322296\n",
            "0.5058143073779369\n",
            "0.2991884722927129\n"
          ]
        }
      ]
    },
    {
      "cell_type": "code",
      "source": [
        "mse_models_male=[]\n",
        "mse_models_male.append(a22)\n",
        "mse_models_male.append(b22)\n",
        "mse_models_male.append(c22)\n",
        "mse_models_male.append(d22)\n",
        "\n",
        "mse_models_male"
      ],
      "metadata": {
        "colab": {
          "base_uri": "https://localhost:8080/"
        },
        "id": "pb2fCKh_fAlB",
        "outputId": "91078b4a-12a9-458b-d712-2d84d7a265dd"
      },
      "id": "pb2fCKh_fAlB",
      "execution_count": 34,
      "outputs": [
        {
          "output_type": "execute_result",
          "data": {
            "text/plain": [
              "[0.46304258519105895,\n",
              " 0.6482349428322296,\n",
              " 0.5058143073779369,\n",
              " 0.2991884722927129]"
            ]
          },
          "metadata": {},
          "execution_count": 34
        }
      ]
    },
    {
      "cell_type": "markdown",
      "source": [
        "# **MAPE group bar chart**"
      ],
      "metadata": {
        "id": "1hrmrngj3m44"
      },
      "id": "1hrmrngj3m44"
    },
    {
      "cell_type": "code",
      "source": [
        "a5=mape_m1\n",
        "b5=mape_m2\n",
        "c5=mape_m3\n",
        "d5=mape_m5\n",
        "\n",
        "print(a5)\n",
        "print(b5)\n",
        "print(c5)\n",
        "print(d5)"
      ],
      "metadata": {
        "colab": {
          "base_uri": "https://localhost:8080/"
        },
        "id": "l5Qfh1um3sHE",
        "outputId": "33f58da8-1331-4600-c8ad-4f9798b6d295"
      },
      "id": "l5Qfh1um3sHE",
      "execution_count": 35,
      "outputs": [
        {
          "output_type": "stream",
          "name": "stdout",
          "text": [
            "[0.6432631644959804, 0.6655869506210079]\n",
            "[0.7524279918498848, 0.7891511388308163]\n",
            "[0.6991955443952003, 0.6990781523629478]\n",
            "[0.51205854230053, 0.5160242450582075]\n"
          ]
        }
      ]
    },
    {
      "cell_type": "code",
      "source": [
        "a55=mape_m1[0]\n",
        "b55=mape_m2[0]\n",
        "c55=mape_m3[0]\n",
        "d55=mape_m5[0]\n",
        "\n",
        "print(a55)\n",
        "print(b55)\n",
        "print(c55)\n",
        "print(d55)"
      ],
      "metadata": {
        "colab": {
          "base_uri": "https://localhost:8080/"
        },
        "id": "Qa21WQP430lq",
        "outputId": "cf8dd242-e056-4c23-b80e-62c50019c0b6"
      },
      "id": "Qa21WQP430lq",
      "execution_count": 36,
      "outputs": [
        {
          "output_type": "stream",
          "name": "stdout",
          "text": [
            "0.6432631644959804\n",
            "0.7524279918498848\n",
            "0.6991955443952003\n",
            "0.51205854230053\n"
          ]
        }
      ]
    },
    {
      "cell_type": "code",
      "source": [
        "mape_models_female=[]\n",
        "mape_models_female.append(a55)\n",
        "mape_models_female.append(b55)\n",
        "mape_models_female.append(c55)\n",
        "mape_models_female.append(d55)\n",
        "\n",
        "mape_models_female"
      ],
      "metadata": {
        "colab": {
          "base_uri": "https://localhost:8080/"
        },
        "id": "U6JEtubZ4Ekp",
        "outputId": "a1900d3a-f66d-4ec4-af5b-0ef00bf3aa48"
      },
      "id": "U6JEtubZ4Ekp",
      "execution_count": 37,
      "outputs": [
        {
          "output_type": "execute_result",
          "data": {
            "text/plain": [
              "[0.6432631644959804, 0.7524279918498848, 0.6991955443952003, 0.51205854230053]"
            ]
          },
          "metadata": {},
          "execution_count": 37
        }
      ]
    },
    {
      "cell_type": "code",
      "source": [
        "a555=mape_m1[1]\n",
        "b555=mape_m2[1]\n",
        "c555=mape_m3[1]\n",
        "d555=mape_m5[1]\n",
        "\n",
        "print(a555)\n",
        "print(b555)\n",
        "print(c555)\n",
        "print(d555)"
      ],
      "metadata": {
        "colab": {
          "base_uri": "https://localhost:8080/"
        },
        "id": "uCRb-us33-Jq",
        "outputId": "1af4dfd7-e46e-42c5-a602-d650863fac88"
      },
      "id": "uCRb-us33-Jq",
      "execution_count": 38,
      "outputs": [
        {
          "output_type": "stream",
          "name": "stdout",
          "text": [
            "0.6655869506210079\n",
            "0.7891511388308163\n",
            "0.6990781523629478\n",
            "0.5160242450582075\n"
          ]
        }
      ]
    },
    {
      "cell_type": "code",
      "source": [
        "mape_models_male=[]\n",
        "mape_models_male.append(a555)\n",
        "mape_models_male.append(b555)\n",
        "mape_models_male.append(c555)\n",
        "mape_models_male.append(d555)\n",
        "\n",
        "mape_models_male"
      ],
      "metadata": {
        "colab": {
          "base_uri": "https://localhost:8080/"
        },
        "id": "1oKVh_KC4XXX",
        "outputId": "922e989c-8c8b-41d2-f446-ad3bfeadb775"
      },
      "id": "1oKVh_KC4XXX",
      "execution_count": 39,
      "outputs": [
        {
          "output_type": "execute_result",
          "data": {
            "text/plain": [
              "[0.6655869506210079,\n",
              " 0.7891511388308163,\n",
              " 0.6990781523629478,\n",
              " 0.5160242450582075]"
            ]
          },
          "metadata": {},
          "execution_count": 39
        }
      ]
    },
    {
      "cell_type": "markdown",
      "source": [
        "# **Ploting group bar chart**"
      ],
      "metadata": {
        "id": "zVlRyIHdfcev"
      },
      "id": "zVlRyIHdfcev"
    },
    {
      "cell_type": "code",
      "source": [
        "\n",
        "\n",
        "# create data\n",
        "df = pd.DataFrame([['Female', 0.6670415542640526,\n",
        " 0.7783076800765676,\n",
        " 0.7146969413504908,\n",
        " 0.5455074117238639], ['Male', 0.6879266279852898, 0.814145686581211, 0.7199689191006653, 0.5583809203153479]],\n",
        "                  columns=['Gender', ' cf_cosine', ' cf_svd', ' cf_euclidean', 'cf_manhanttan'])\n",
        "# view data\n",
        "print(df)\n",
        "  \n",
        "# plot grouped bar chart\n",
        "df.plot(x='Gender',\n",
        "        kind='bar',\n",
        "        stacked=False,\n",
        "        title='RMSE of the models')\n",
        "plt.ylabel(\"RMSE Scores\")\n",
        "\n",
        "plt.xticks(rotation=360)\n"
      ],
      "metadata": {
        "colab": {
          "base_uri": "https://localhost:8080/",
          "height": 373
        },
        "id": "mdL7lhoXYwd1",
        "outputId": "86f7c212-6fde-4565-fba3-058157554119"
      },
      "id": "mdL7lhoXYwd1",
      "execution_count": 40,
      "outputs": [
        {
          "output_type": "stream",
          "name": "stdout",
          "text": [
            "   Gender   cf_cosine    cf_svd   cf_euclidean  cf_manhanttan\n",
            "0  Female    0.667042  0.778308       0.714697       0.545507\n",
            "1    Male    0.687927  0.814146       0.719969       0.558381\n"
          ]
        },
        {
          "output_type": "execute_result",
          "data": {
            "text/plain": [
              "(array([0, 1]), <a list of 2 Text major ticklabel objects>)"
            ]
          },
          "metadata": {},
          "execution_count": 40
        },
        {
          "output_type": "display_data",
          "data": {
            "text/plain": [
              "<Figure size 432x288 with 1 Axes>"
            ],
            "image/png": "[encoded data removed]"
          },
          "metadata": {}
        }
      ]
    },
    {
      "cell_type": "code",
      "source": [
        "# create data\n",
        "df = pd.DataFrame([['Female', 0.44494443511500303,\n",
        " 0.6057628448661686,\n",
        " 0.5107917179757469,\n",
        " 0.2975783362456691], ['Male', 0.47324304549121127,\n",
        " 0.6628331989787914,\n",
        " 0.5183552444709804,\n",
        " 0.3117892521722149]],\n",
        "                  columns=['Gender', ' cf_cosine', ' cf_svd', ' cf_euclidean', 'cf_manhanttan'])\n",
        "# view data\n",
        "print(df)\n",
        "  \n",
        "# plot grouped bar chart\n",
        "df.plot(x='Gender',\n",
        "        kind='bar',\n",
        "        stacked=False,\n",
        "        title='MSE of the models')\n",
        "plt.ylabel(\"MSE Scores\")\n",
        "\n",
        "plt.xticks(rotation=360)\n"
      ],
      "metadata": {
        "colab": {
          "base_uri": "https://localhost:8080/",
          "height": 373
        },
        "id": "b4FBINDrfP6Y",
        "outputId": "3d822b5d-5ca1-4da3-dcd0-3abe9ed33d0f"
      },
      "id": "b4FBINDrfP6Y",
      "execution_count": 41,
      "outputs": [
        {
          "output_type": "stream",
          "name": "stdout",
          "text": [
            "   Gender   cf_cosine    cf_svd   cf_euclidean  cf_manhanttan\n",
            "0  Female    0.444944  0.605763       0.510792       0.297578\n",
            "1    Male    0.473243  0.662833       0.518355       0.311789\n"
          ]
        },
        {
          "output_type": "execute_result",
          "data": {
            "text/plain": [
              "(array([0, 1]), <a list of 2 Text major ticklabel objects>)"
            ]
          },
          "metadata": {},
          "execution_count": 41
        },
        {
          "output_type": "display_data",
          "data": {
            "text/plain": [
              "<Figure size 432x288 with 1 Axes>"
            ],
            "image/png": "[encoded data removed]"
          },
          "metadata": {}
        }
      ]
    },
    {
      "cell_type": "code",
      "source": [
        "# create data\n",
        "df = pd.DataFrame([['Female', 0.6425962026739687,\n",
        " 0.7523784773473424,\n",
        " 0.7052020264097402,\n",
        " 0.5175902264179727], ['Male',0.6707450927824425,\n",
        " 0.7936479501181415,\n",
        " 0.7005724277138031,\n",
        " 0.5174885744178287]],\n",
        "                  columns=['Gender', ' cf_cosine', ' cf_svd', ' cf_euclidean', 'cf_manhanttan'])\n",
        "# view data\n",
        "print(df)\n",
        "  \n",
        "# plot grouped bar chart\n",
        "df.plot(x='Gender',\n",
        "        kind='bar',\n",
        "        stacked=False,\n",
        "        title='MAPE of the models')\n",
        "plt.ylabel(\"MAPE Scores\")\n",
        "\n",
        "plt.xticks(rotation=360)"
      ],
      "metadata": {
        "colab": {
          "base_uri": "https://localhost:8080/",
          "height": 373
        },
        "id": "9YIa9iPv4n8e",
        "outputId": "299e6b8b-0830-4eb4-eafa-6236c757f992"
      },
      "id": "9YIa9iPv4n8e",
      "execution_count": 42,
      "outputs": [
        {
          "output_type": "stream",
          "name": "stdout",
          "text": [
            "   Gender   cf_cosine    cf_svd   cf_euclidean  cf_manhanttan\n",
            "0  Female    0.642596  0.752378       0.705202       0.517590\n",
            "1    Male    0.670745  0.793648       0.700572       0.517489\n"
          ]
        },
        {
          "output_type": "execute_result",
          "data": {
            "text/plain": [
              "(array([0, 1]), <a list of 2 Text major ticklabel objects>)"
            ]
          },
          "metadata": {},
          "execution_count": 42
        },
        {
          "output_type": "display_data",
          "data": {
            "text/plain": [
              "<Figure size 432x288 with 1 Axes>"
            ],
            "image/png": "[encoded data removed]"
          },
          "metadata": {}
        }
      ]
    },
    {
      "cell_type": "markdown",
      "id": "2224b50e",
      "metadata": {
        "id": "2224b50e"
      },
      "source": [
        "# Prediction"
      ]
    },
    {
      "cell_type": "code",
      "execution_count": 43,
      "id": "7847dfb6",
      "metadata": {
        "id": "7847dfb6"
      },
      "outputs": [],
      "source": [
        "def recommend(Gender,course,sim_mat,top_n):\n",
        "    sim_mat=sim_mat[(Gender)] #get which gender then see which model to use\n",
        "    idx=np.where(courses==course)[0][0] # get the course and look through\n",
        "    sim_array=sim_mat[idx] #put the index from the previous line into the sim_mat\n",
        "    print(sim_array[idx])\n",
        "\n",
        "    sim_array[idx]=-1000 # minus 1000 to get the idx, forcing that value to large negetive value.\n",
        "    scores=list(enumerate(sim_array)) #To specify each course of a sequence individually\n",
        "    sorted_array=np.array(sorted(scores,key=lambda x: x[1], reverse=True),dtype='uint8')[:,0] # sort and print top 5\n",
        "    print(courses[sorted_array[:top_n]])"
      ]
    },
    {
      "cell_type": "markdown",
      "source": [
        "# Testing the model with some values"
      ],
      "metadata": {
        "id": "95yLnp8JFjwW"
      },
      "id": "95yLnp8JFjwW"
    },
    {
      "cell_type": "code",
      "execution_count": 44,
      "id": "532f23c0",
      "metadata": {
        "colab": {
          "base_uri": "https://localhost:8080/"
        },
        "id": "532f23c0",
        "outputId": "a4657b83-ff95-4070-89e1-05147de877cf"
      },
      "outputs": [
        {
          "output_type": "stream",
          "name": "stdout",
          "text": [
            "1.000000000000001\n",
            "['Common Business Programme (SBM)'\n",
            " 'Business Intelligence & Analytics (SIT)' 'Banking & Finance (SBM)'\n",
            " 'Business Management (SBM)' 'Information Technology (SIT)']\n",
            "1.0\n",
            "['Common Business Programme (SBM)'\n",
            " 'Business Intelligence & Analytics (SIT)' 'Banking & Finance (SBM)'\n",
            " 'Accountancy & Finance (SBM)' 'Business Management (SBM)']\n",
            "1.0\n",
            "['Common Business Programme (SBM)'\n",
            " 'Business Intelligence & Analytics (SIT)' 'Banking & Finance (SBM)'\n",
            " 'Information Technology (SIT)' 'Business Management (SBM)']\n",
            "1.0\n",
            "['Common Business Programme (SBM)'\n",
            " 'Business Intelligence & Analytics (SIT)' 'Banking & Finance (SBM)'\n",
            " 'Information Technology (SIT)' 'Business Management (SBM)']\n"
          ]
        }
      ],
      "source": [
        "Gender='Female'\n",
        "course='Business & Financial Technology (SIT)'\n",
        "recommend(Gender,course,sim_mat_dic_m1,5)\n",
        "recommend(Gender,course,sim_mat_dic_m2,5)\n",
        "recommend(Gender,course,sim_mat_dic_m3,5)\n",
        "recommend(Gender,course,sim_mat_dic_m5,5)"
      ]
    },
    {
      "cell_type": "code",
      "execution_count": 45,
      "id": "86892da7",
      "metadata": {
        "colab": {
          "base_uri": "https://localhost:8080/"
        },
        "id": "86892da7",
        "outputId": "696924a8-3309-4c5c-9c41-bdb99ae954a8"
      },
      "outputs": [
        {
          "output_type": "stream",
          "name": "stdout",
          "text": [
            "1.000000000000001\n",
            "['Common ICT Programme (SIT)' 'Information Technology (SIT)'\n",
            " 'Infocomm & Security (SIT)' 'Game Development & Technology (SDM)'\n",
            " 'AI & Data Engineering (SEG)']\n",
            "1.0\n",
            "['Common ICT Programme (SIT)' 'Information Technology (SIT)'\n",
            " 'Infocomm & Security (SIT)' 'Game Development & Technology (SDM)'\n",
            " 'AI & Data Engineering (SEG)']\n",
            "1.0\n",
            "['Information Technology (SIT)' 'Common ICT Programme (SIT)'\n",
            " 'Infocomm & Security (SIT)' 'Game Development & Technology (SDM)'\n",
            " 'AI & Data Engineering (SEG)']\n",
            "1.0\n",
            "['Information Technology (SIT)' 'Common ICT Programme (SIT)'\n",
            " 'Infocomm & Security (SIT)' 'Game Development & Technology (SDM)'\n",
            " 'AI & Data Engineering (SEG)']\n"
          ]
        }
      ],
      "source": [
        "Gender='Male'\n",
        "course='Cybersecurity  & Digital Forensics (SIT)'\n",
        "recommend(Gender,course,sim_mat_dic_m1,5)\n",
        "recommend(Gender,course,sim_mat_dic_m2,5)\n",
        "recommend(Gender,course,sim_mat_dic_m3,5)\n",
        "recommend(Gender,course,sim_mat_dic_m5,5)"
      ]
    },
    {
      "cell_type": "code",
      "execution_count": 46,
      "id": "36486cb4",
      "metadata": {
        "colab": {
          "base_uri": "https://localhost:8080/"
        },
        "id": "36486cb4",
        "outputId": "5d2ea646-d521-460c-9689-0aa44419ccdc"
      },
      "outputs": [
        {
          "output_type": "stream",
          "name": "stdout",
          "text": [
            "1.0\n",
            "['Banking & Finance (SBM)' 'Business Management (SBM)'\n",
            " 'Accountancy & Finance (SBM)' 'Sport & Wellness Management (SBM)'\n",
            " 'Interaction Design (SDM)']\n"
          ]
        }
      ],
      "source": [
        "Gender='Male'\n",
        "course='Common Business Programme (SBM)'\n",
        "recommend(Gender,course,sim_mat_dic_m5,5)"
      ]
    },
    {
      "cell_type": "code",
      "execution_count": 47,
      "id": "0bbe5d49",
      "metadata": {
        "id": "0bbe5d49",
        "colab": {
          "base_uri": "https://localhost:8080/"
        },
        "outputId": "892a5c63-0472-4d57-8d4a-6f8de8dd2b61"
      },
      "outputs": [
        {
          "output_type": "stream",
          "name": "stdout",
          "text": [
            "1.0000000000000002\n",
            "['Interaction Design (SDM)' 'Motion Graphics Design (SDM)'\n",
            " 'Visual Communication (SDM)' 'Animation & Visual Effects (SDM)'\n",
            " 'Mass Media Management (SBM)']\n",
            "1.0000000000000002\n",
            "['Interaction Design (SDM)' 'Motion Graphics Design (SDM)'\n",
            " 'Visual Communication (SDM)' 'Animation & Visual Effects (SDM)'\n",
            " 'Mass Media Management (SBM)']\n",
            "1.0\n",
            "['Interaction Design (SDM)' 'Visual Communication (SDM)'\n",
            " 'Motion Graphics Design (SDM)' 'Animation & Visual Effects (SDM)'\n",
            " 'Architecture  (SDM)']\n",
            "1.0\n",
            "['Interaction Design (SDM)' 'Visual Communication (SDM)'\n",
            " 'Motion Graphics Design (SDM)' 'Animation & Visual Effects (SDM)'\n",
            " 'Architecture  (SDM)']\n"
          ]
        }
      ],
      "source": [
        "Gender='Female'\n",
        "course='Experiential Product & Interior Design (SDM)'\n",
        "recommend(Gender,course,sim_mat_dic_m1,5)\n",
        "recommend(Gender,course,sim_mat_dic_m2,5)\n",
        "recommend(Gender,course,sim_mat_dic_m3,5)\n",
        "recommend(Gender,course,sim_mat_dic_m5,5)"
      ]
    },
    {
      "cell_type": "code",
      "execution_count": 48,
      "id": "50e3ae3b",
      "metadata": {
        "id": "50e3ae3b",
        "colab": {
          "base_uri": "https://localhost:8080/"
        },
        "outputId": "7a0c470e-b5a0-412a-d7c1-1e60e7a74329"
      },
      "outputs": [
        {
          "output_type": "stream",
          "name": "stdout",
          "text": [
            "1.0000000000000007\n",
            "['Pharmaceutical Science (SAS)'\n",
            " 'Chemical & Pharmaceutical Technology (SAS)'\n",
            " 'Food Science & Nutrition (SAS)' 'Biologics & Process Technology (SAS)'\n",
            " 'Nursing (SHSS)']\n",
            "1.0\n",
            "['Pharmaceutical Science (SAS)'\n",
            " 'Chemical & Pharmaceutical Technology (SAS)'\n",
            " 'Food Science & Nutrition (SAS)' 'Biologics & Process Technology (SAS)'\n",
            " 'Nursing (SHSS)']\n",
            "1.0\n",
            "['Pharmaceutical Science (SAS)'\n",
            " 'Chemical & Pharmaceutical Technology (SAS)'\n",
            " 'Food Science & Nutrition (SAS)' 'Biologics & Process Technology (SAS)'\n",
            " 'Nursing (SHSS)']\n",
            "1.0\n",
            "['Pharmaceutical Science (SAS)'\n",
            " 'Chemical & Pharmaceutical Technology (SAS)'\n",
            " 'Food Science & Nutrition (SAS)' 'Biologics & Process Technology (SAS)'\n",
            " 'Nursing (SHSS)']\n"
          ]
        }
      ],
      "source": [
        "Gender='Female'\n",
        "course='Applied Chemistry (SAS)'\n",
        "recommend(Gender,course,sim_mat_dic_m1,5)\n",
        "recommend(Gender,course,sim_mat_dic_m2,5)\n",
        "recommend(Gender,course,sim_mat_dic_m3,5)\n",
        "recommend(Gender,course,sim_mat_dic_m5,5)"
      ]
    },
    {
      "cell_type": "code",
      "execution_count": 48,
      "id": "edc3c33f",
      "metadata": {
        "id": "edc3c33f"
      },
      "outputs": [],
      "source": [
        ""
      ]
    }
  ],
  "metadata": {
    "kernelspec": {
      "display_name": "Python 3",
      "language": "python",
      "name": "python3"
    },
    "language_info": {
      "codemirror_mode": {
        "name": "ipython",
        "version": 3
      },
      "file_extension": ".py",
      "mimetype": "text/x-python",
      "name": "python",
      "nbconvert_exporter": "python",
      "pygments_lexer": "ipython3",
      "version": "3.8.8"
    },
    "colab": {
      "name": "nypcourse_model.ipynb",
      "provenance": [],
      "collapsed_sections": [
        "f00d63b7",
        "60475aa1",
        "3ae614f0",
        "6aa5f2cf",
        "4c7f885e",
        "f8ad9ad4",
        "tQaXFu_OeeuE",
        "1hrmrngj3m44",
        "zVlRyIHdfcev",
        "wP-i7jD9fuV1",
        "2224b50e"
      ]
    }
  },
  "nbformat": 4,
  "nbformat_minor": 5
}